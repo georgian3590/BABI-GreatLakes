{
  "nbformat": 4,
  "nbformat_minor": 0,
  "metadata": {
    "colab": {
      "name": "Linear_Regression",
      "provenance": [],
      "collapsed_sections": [],
      "authorship_tag": "ABX9TyNDJN1eMsR7kn+uaqBHpCGK",
      "include_colab_link": true
    },
    "kernelspec": {
      "name": "python3",
      "display_name": "Python 3"
    },
    "language_info": {
      "name": "python"
    }
  },
  "cells": [
    {
      "cell_type": "markdown",
      "metadata": {
        "id": "view-in-github",
        "colab_type": "text"
      },
      "source": [
        "<a href=\"https://colab.research.google.com/github/georgian3590/BABI-GreatLakes/blob/master/Linear_Regression.ipynb\" target=\"_parent\"><img src=\"https://colab.research.google.com/assets/colab-badge.svg\" alt=\"Open In Colab\"/></a>"
      ]
    },
    {
      "cell_type": "code",
      "metadata": {
        "colab": {
          "base_uri": "https://localhost:8080/"
        },
        "id": "rY_fh5zJCTDZ",
        "outputId": "f520f497-cb79-4486-c00b-e02870b2e1b3"
      },
      "source": [
        "print(\"Welcome to first notebook\")"
      ],
      "execution_count": 1,
      "outputs": [
        {
          "output_type": "stream",
          "text": [
            "Welcome to first notebook\n"
          ],
          "name": "stdout"
        }
      ]
    }
  ]
}